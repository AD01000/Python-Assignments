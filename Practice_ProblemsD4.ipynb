{
 "cells": [
  {
   "cell_type": "code",
   "execution_count": 38,
   "id": "ead8e2ee",
   "metadata": {},
   "outputs": [
    {
     "name": "stdout",
     "output_type": "stream",
     "text": [
      "Enter the limit:5\n",
      "14\n",
      "12\n",
      "23\n",
      "20\n",
      "15\n",
      "The elements divisible by 5: [20, 15]\n"
     ]
    }
   ],
   "source": [
    "#1.Program to print only those numbers divisible by 5.\n",
    "l = int(input('Enter the limit:'))        #Read the limit of lists.\n",
    "num1 = []                                 #Create empty lists.\n",
    "num2 = []\n",
    "for i in range(l):                        #For loop to input the elments into a list.\n",
    "    n = int(input())\n",
    "    num1.append(n)\n",
    "    if(n % 5 == 0):                       #If statement to check the elements are divisible by 5 or not.\n",
    "        num2.append(n)                    #Adding the elements divisible by 5 to a new list.\n",
    "print('The elements divisible by 5:',num2) #Output.                  "
   ]
  },
  {
   "cell_type": "code",
   "execution_count": 37,
   "id": "f34bccaf",
   "metadata": {
    "scrolled": true
   },
   "outputs": [
    {
     "name": "stdout",
     "output_type": "stream",
     "text": [
      "Enter the elements: 14 24 32 45 51\n",
      "The original list :  ['14', '24', '32', '45', '51']\n",
      "The reversed list :  ['51', '45', '32', '24', '14']\n"
     ]
    }
   ],
   "source": [
    "#2.To Reverse a list using For loop.\n",
    "list1 = input(\"Enter the elements: \").split(\" \")    #Read a list from the user.\n",
    "print(\"The original list : \",list1)         \n",
    "list2 = []                                          #Create an empty list,\n",
    "for val in list1:                                   #Loop to reverse the initial list, \n",
    "  list2 = [val] + list2                             # & store it in the empty list.\n",
    "print(\"The reversed list : \", list2)                #Output.Reversed list."
   ]
  },
  {
   "cell_type": "code",
   "execution_count": 34,
   "id": "c31ffb0e",
   "metadata": {},
   "outputs": [
    {
     "name": "stdout",
     "output_type": "stream",
     "text": [
      "* \n",
      "\n",
      "* * \n",
      "\n",
      "* * * \n",
      "\n",
      "* * * * \n",
      "\n"
     ]
    }
   ],
   "source": [
    "#3.Program to print the given pattern.\n",
    "r = 4                              #Number of rows in the pattern.\n",
    "for i in range(0, r):              #Nested loop to print the pattern.\n",
    "    for j in range(0, i + 1):\n",
    "        print(\"*\", end=' ')        #Print the '*'.\n",
    "    print(\"\\n\")                    #To go the next row.\n",
    "                                   #Output."
   ]
  },
  {
   "cell_type": "code",
   "execution_count": 35,
   "id": "bbd23df9",
   "metadata": {},
   "outputs": [
    {
     "name": "stdout",
     "output_type": "stream",
     "text": [
      "* \n",
      "\n",
      "* * \n",
      "\n",
      "* * * \n",
      "\n",
      "* * * * \n",
      "\n",
      "* * * * * \n",
      "\n",
      "* * * * \n",
      "\n",
      "* * * \n",
      "\n",
      "* * \n",
      "\n",
      "* \n",
      "\n",
      "\n",
      "\n"
     ]
    }
   ],
   "source": [
    "#4.Program to print the given pattern.\n",
    "r1 = 5                             #Number of rows.\n",
    "for i in range(0, r1):             #Nested loop to print the 1st half of the pattern.\n",
    "    for j in range(0, i + 1):\n",
    "        print(\"*\", end=' ')        #Print the '*'.\n",
    "    print(\"\\n\")    \n",
    "\n",
    "for i in range(r1, 0, -1):         #Nested loop to print the 2nd half of the pattern.\n",
    "    for j in range(0, i - 1):\n",
    "        print(\"*\", end=' ')        #Print the '*'.\n",
    "    print(\"\\n\")                    \n",
    "                                   #Output."
   ]
  },
  {
   "cell_type": "code",
   "execution_count": 39,
   "id": "cf083cc7",
   "metadata": {},
   "outputs": [
    {
     "name": "stdout",
     "output_type": "stream",
     "text": [
      "Enter the limit5\n",
      "12\n",
      "23\n",
      "14\n",
      "32\n",
      "43\n",
      "The original list [12, 23, 14, 32, 43]\n",
      "The updated list [24, 46, 28, 64, 86]\n"
     ]
    }
   ],
   "source": [
    "#5.Program to Read a list of numbers and multiply each element & add it to a new list.\n",
    "l = int(input('Enter the limit'))                         #Read the limit of lists.\n",
    "num1 = []                                                 #Create empty lists.\n",
    "num2 = []\n",
    "for i in range(l):                                        #Loop to insert the elements into a list.\n",
    "    n = int(input())        \n",
    "    num1.append(n)                                        #Add the element to a list.\n",
    "    num2.append(n*2)                                      #Multiply each element & add to a new list.\n",
    "print('The original list',num1)                           #Output.\n",
    "print('The updated list',num2)     "
   ]
  },
  {
   "cell_type": "code",
   "execution_count": null,
   "id": "1c5d0683",
   "metadata": {},
   "outputs": [],
   "source": []
  }
 ],
 "metadata": {
  "kernelspec": {
   "display_name": "Python 3 (ipykernel)",
   "language": "python",
   "name": "python3"
  },
  "language_info": {
   "codemirror_mode": {
    "name": "ipython",
    "version": 3
   },
   "file_extension": ".py",
   "mimetype": "text/x-python",
   "name": "python",
   "nbconvert_exporter": "python",
   "pygments_lexer": "ipython3",
   "version": "3.10.9"
  }
 },
 "nbformat": 4,
 "nbformat_minor": 5
}
