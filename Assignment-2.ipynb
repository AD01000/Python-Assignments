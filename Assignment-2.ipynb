{
 "cells": [
  {
   "cell_type": "markdown",
   "id": "da924a2c",
   "metadata": {},
   "source": [
    "# Assignment-2"
   ]
  },
  {
   "cell_type": "code",
   "execution_count": 8,
   "id": "9dd290a1",
   "metadata": {},
   "outputs": [
    {
     "name": "stdout",
     "output_type": "stream",
     "text": [
      "Welcome To Guess Game\n",
      "Guess any number from 1-10 : 6\n",
      "Too high! Try again.\n",
      "Guess the number again: 4\n",
      "Too high! Try again.\n",
      "Guess the number again: 3\n",
      "Congratulations you guessed the number correctly!\n"
     ]
    }
   ],
   "source": [
    "#1.Program to create an interactive Guess Game.\n",
    "print('Welcome To Guess Game')                             #Introduction.\n",
    "import random                                              #Import random module.\n",
    "secretNumber = random.randrange(1,10)                      #Use random.range function to choose a number within the range at random - secretNumber.\n",
    "guess = int(input(\"Guess any number from 1-10 : \"))        #Read a number from the user.     \n",
    "while secretNumber!= guess:                                #Nested loop to check whether the number that the user chose is the secretNumber.\n",
    "    if guess < secretNumber:                               #If not ask the user to try again until the secretNumber is chosen.\n",
    "        print(\"Too low! Try again.\")                       #Checking whether the number read from the user is > or < the secretNumber.\n",
    "        guess = int(input(\"Guess the number again: \"))\n",
    "    elif guess > secretNumber:\n",
    "        print(\"Too high! Try again.\")\n",
    "        guess = int(input(\"Guess the number again: \"))\n",
    "    else:\n",
    "      break                                                #Break function to exit the loop when the secretNumber is chose by the user.\n",
    "print(\"Congratulations you guessed the number correctly!\") #Output."
   ]
  },
  {
   "cell_type": "code",
   "execution_count": 9,
   "id": "3efb77c3",
   "metadata": {},
   "outputs": [
    {
     "name": "stdout",
     "output_type": "stream",
     "text": [
      "Enter the number :5\n",
      "The Factorial of 5 is: 120\n"
     ]
    }
   ],
   "source": [
    "#2.Program to Find the factorial of a number.\n",
    "N = int(input('Enter the number :'))                                        #Input the number of which the factorial is to be found.\n",
    "f = 1                                                                       #Create a variable and assign 1 as the its value.\n",
    "if N < 0:                                                                   #Check whether the number read from the user is -ve integer.\n",
    "    print('The number should be a positive interger to have a factorial.') \n",
    "elif N == 0:                                                                #Check whether the number read from the user is 0.\n",
    "    print('The factorial of 0 is 1')                                        #If the number is neither -ve integer or 0 then use for loop to find the factorial.\n",
    "else:\n",
    "    for i in range(1,N+1):\n",
    "        f = f * i\n",
    "    print(\"The Factorial of\",N,\"is:\",f)                                     #Output.The factorial of the number."
   ]
  },
  {
   "cell_type": "code",
   "execution_count": 12,
   "id": "37ba5c33",
   "metadata": {},
   "outputs": [
    {
     "name": "stdout",
     "output_type": "stream",
     "text": [
      "Welcome to Facebook\n",
      "Profile Picture\n",
      "Upload\n",
      "Enter the Dimension accepted: 8\n",
      "Enter the Number of Photos to be Uploaded: 4\n",
      "Enter the Width and Height of the Photo: 4 3\n",
      "UPLOAD ANOTHER\n",
      "Enter the Width and Height of the Photo: 8 8\n",
      "ACCEPTED\n",
      "Enter the Width and Height of the Photo: 8 9\n",
      "CROP IT\n",
      "Enter the Width and Height of the Photo: 11 11\n",
      "ACCEPTED\n"
     ]
    }
   ],
   "source": [
    "#3.Program to upload profile pictures following the given instructions.\n",
    "print(\"Welcome to Facebook\\nProfile Picture\\nUpload\")                          #Introduction.\n",
    "L = int(input('Enter the Dimension accepted: '))                               #Input the dimension accepted.\n",
    "N = int(input('Enter the Number of Photos to be Uploaded: '))                  #Input the number of photos.\n",
    "while N !=0 :                                                                  #Nested loop to check whether the dimensions of each photo uploaded is accepted.\n",
    "    W,H = map(int, input('Enter the Width and Height of the Photo: ').split()) #Input the dimensions of the Photo.\n",
    "    if W<L or H<L :                                                            \n",
    "        print(\"UPLOAD ANOTHER\")                                                #If the dimensions are not accepted ask the user to upload another.\n",
    "    elif W>=L and H>=L :                                                       \n",
    "        if W == H:                                                             #If the dimensions are same as the accepted dimensions or are of a square,\n",
    "            print(\"ACCEPTED\")                                                  # then let the user know the photo is accepted.\n",
    "        else:\n",
    "            print(\"CROP IT\")                                                   #If the dimensions are > than the accepted dimensions ask the user to crop it.\n",
    "    N = N-1                                                                    #Continue the loop until all photos are checked.\n",
    "                                                                               #Output."
   ]
  },
  {
   "cell_type": "code",
   "execution_count": null,
   "id": "e1cf6a5d",
   "metadata": {},
   "outputs": [],
   "source": []
  }
 ],
 "metadata": {
  "kernelspec": {
   "display_name": "Python 3 (ipykernel)",
   "language": "python",
   "name": "python3"
  },
  "language_info": {
   "codemirror_mode": {
    "name": "ipython",
    "version": 3
   },
   "file_extension": ".py",
   "mimetype": "text/x-python",
   "name": "python",
   "nbconvert_exporter": "python",
   "pygments_lexer": "ipython3",
   "version": "3.10.9"
  }
 },
 "nbformat": 4,
 "nbformat_minor": 5
}
