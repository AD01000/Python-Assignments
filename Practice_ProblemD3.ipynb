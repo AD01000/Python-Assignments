{
 "cells": [
  {
   "cell_type": "code",
   "execution_count": 42,
   "id": "30308d33",
   "metadata": {},
   "outputs": [
    {
     "name": "stdout",
     "output_type": "stream",
     "text": [
      "Enter the scores:23 76 51\n",
      "[23, 51, 76]\n",
      "The score of the runner up is: 51\n"
     ]
    }
   ],
   "source": [
    "#1.Program to find the scores of the runner up from a list.\n",
    "x,y,z = map(int,input('Enter the scores:').split(' ')) #input the values.\n",
    "score =[x,y,z]                                         #read the values into a list.\n",
    "score.sort()                                           #sort the values in the list\n",
    "print(score)                                           #print the updated list.\n",
    "print('The score of the runner up is:',score[-2])      #Output.   \n"
   ]
  },
  {
   "cell_type": "code",
   "execution_count": 5,
   "id": "77184442",
   "metadata": {},
   "outputs": [
    {
     "name": "stdout",
     "output_type": "stream",
     "text": [
      "Enter the name:Meena\n",
      "The directory is updated\n",
      "{'John': [25, 32, 43], 'Peter': [87, 55, 96], 'Ram': [58, 55, 43], 'Meena': [88, 77, 99]}\n"
     ]
    }
   ],
   "source": [
    "#2.Program to get a key name of dictionary from the user \n",
    "# and change its value then print the updated dictionary.\n",
    "D={'John':[25,32,43],'Peter':[87,55,96],'Ram':[58,55,43],'Meena':[63,79,85]} #Given Dictionary\n",
    "name=input(\"Enter the name:\")                                                #Read the Key name from the user.\n",
    "if name in D:                                                                #IF statement to check the read Key name,\n",
    "    D[name]=[88,77,99]                                                       #is in the dictionary and update it.\n",
    "    print(\"The directory is updated\")                                                     \n",
    "    print(D)                                                                 #Updated Dictionary.Output.\n",
    "else:                                                                        #ELSE statement if the read Key name is not in the Dictionary.\n",
    "    print(\"Name not Found\")                                                  #Output."
   ]
  },
  {
   "cell_type": "code",
   "execution_count": 45,
   "id": "295ba08e",
   "metadata": {},
   "outputs": [
    {
     "name": "stdout",
     "output_type": "stream",
     "text": [
      "Enter your age:19\n",
      "Choose your gender(M/F):F\n",
      "The ticket price is Rs: 25.0\n"
     ]
    }
   ],
   "source": [
    "#3.Program to Calculate the Ticket price using given conditions.\n",
    "age = int(input('Enter your age:'))              #Input the Age and Gender from the user.\n",
    "gender =input('Choose your gender(M/F):')        #Gender- Male = 'M' & Female = 'F'.\n",
    "if age < 5:                                      #Series of if-elif statements to determine the price of the ticket from, \n",
    "    price = 0.0                                  #the age and gender chose by the user.\n",
    "elif age in range(5,13,1):\n",
    "    if(gender == 'F'):\n",
    "        price = 10/2   \n",
    "    else:\n",
    "        price = 10.0\n",
    "elif age in range(13,61,1):\n",
    "    if(gender == 'F'):\n",
    "        price = 50/2\n",
    "    else:\n",
    "        price = 50.0    \n",
    "else:\n",
    "    price = 0.0\n",
    "print('The ticket price is Rs:',price)          #Output.The Price of the ticket has been determined."
   ]
  }
 ],
 "metadata": {
  "kernelspec": {
   "display_name": "Python 3 (ipykernel)",
   "language": "python",
   "name": "python3"
  },
  "language_info": {
   "codemirror_mode": {
    "name": "ipython",
    "version": 3
   },
   "file_extension": ".py",
   "mimetype": "text/x-python",
   "name": "python",
   "nbconvert_exporter": "python",
   "pygments_lexer": "ipython3",
   "version": "3.10.9"
  }
 },
 "nbformat": 4,
 "nbformat_minor": 5
}
